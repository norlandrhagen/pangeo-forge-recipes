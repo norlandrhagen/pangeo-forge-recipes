{
 "cells": [
  {
   "attachments": {},
   "cell_type": "markdown",
   "metadata": {},
   "source": [
    "# NASA CMR Recipe: GPM IMERG Late Precipitation\n",
    "\n",
    "This tutorial shows how to use the [pangeo-forge-cmr](https://github.com/yuvipanda/pangeo-forge-cmr) plugin to create a recipe from files cataloged within [NASA's Common Metadata Repository](https://www.earthdata.nasa.gov/eosdis/science-system-description/eosdis-components/cmr) (CMR). Using this library allows us to create recipes from a large catalog of archival NASA data.\n",
    "\n",
    "In addition to this, we will use the [pangeo-forge-earthdatalogin](https://github.com/yuvipanda/pangeo-forge-earthdatalogin) plugin to help with NASA Earthdata Login Credentials. \n",
    "\n",
    "This tutorial is meant as an addition to the documentation in  [pangeo-forge-cmr](https://github.com/yuvipanda/pangeo-forge-cmr) and [pangeo-forge-earthdatalogin](https://github.com/yuvipanda/pangeo-forge-earthdatalogin). Both of these utilities were created by [@yuvipanda](https://github.com/yuvipanda). \n",
    "\n"
   ]
  },
  {
   "attachments": {},
   "cell_type": "markdown",
   "metadata": {},
   "source": [
    "## Background\n",
    "\n",
    "This dataset is stored as `.netcdf` files and will be written to `Zarr`. The only difference in this recipe should be the pattern creation. We will use `pangeo-forge-cmr` to help us with the recipe pattern generation and `pangeo-forgecredentials` utility to help us authenticate.  From there on, this tutorial should look similar to other `Xarray-Zarr` tutorials.\n",
    "\n",
    "The dataset we are looking at is a NASA satellite product of global surface precipitation. "
   ]
  },
  {
   "attachments": {},
   "cell_type": "markdown",
   "metadata": {},
   "source": [
    "## Setup NASA Earthdata Credentials\n",
    "\n",
    "The `pangeo-forge-earthdatalogin` is a small utilty to aid in authentication with NASA Earthdata. To use this, you will need a NASA Earthdata account and will need to accept the EULA waiver for whichever dataset you are planning to access.\n",
    "\n",
    "[Example EULA information](https://disc.gsfc.nasa.gov/earthdata-eula)\n",
    "\n",
    "Once you have set-up your Earthdata account and accepted any relevent EULA's, the next step is to generate a Earthdata Token. There is an excellent guide [here](https://disc.gsfc.nasa.gov/earthdata-eula). From here, one option is to store this Token as an environment variable. When you have added this to your `bash`/`zsh`/etc... profile, `pangeo-forge-earthdatalogin` should be able to access it and use it in your recipe. \n"
   ]
  },
  {
   "attachments": {},
   "cell_type": "markdown",
   "metadata": {},
   "source": [
    "## Examine a Single File\n",
    "Since we are interested in the GPM IMERG dataset, we can infer some information about it on the [NASA GSFC DAAC website](https://disc.gsfc.nasa.gov/datasets/GPM_3IMERGDL_06/summary).\n",
    "\n",
    "![CMR](../../../images/cmr-screenshot.png)\n",
    "\n",
    "\n",
    "Here we can see the `short_name` for the dataset is `GPM_3IMERGDL` and the current `version` is `06`. We will need this information for `pangeo-forge-cmr` to construct a valid file pattern.\n",
    "\n"
   ]
  },
  {
   "cell_type": "code",
   "execution_count": 29,
   "metadata": {},
   "outputs": [
    {
     "data": {
      "text/plain": [
       "'/Users/nrhagen/Documents/carbonplan/pangeo_forge/pangeo-forge-recipes/docs/pangeo_forge_recipes/tutorials/xarray_zarr'"
      ]
     },
     "execution_count": 29,
     "metadata": {},
     "output_type": "execute_result"
    }
   ],
   "source": []
  },
  {
   "cell_type": "code",
   "execution_count": null,
   "metadata": {},
   "outputs": [],
   "source": [
    "from pangeo_forge_cmr import files_from_cmr, get_cmr_granule_links\n",
    "from pangeo_forge_earthdatalogin import OpenURLWithEarthDataLogin\n",
    "import xarray as xr\n",
    "\n",
    "shortname = 'GPM_3IMERGDL'\n",
    "version = '06'"
   ]
  },
  {
   "cell_type": "code",
   "execution_count": null,
   "metadata": {},
   "outputs": [],
   "source": [
    "urls = get_cmr_granule_links(shortname, version)"
   ]
  },
  {
   "attachments": {},
   "cell_type": "markdown",
   "metadata": {},
   "source": [
    "### Optional\n",
    "Uncomment to view a single file"
   ]
  },
  {
   "cell_type": "code",
   "execution_count": null,
   "metadata": {},
   "outputs": [],
   "source": [
    "# import xarray as xr\n",
    "# from pydap.client import open_url\n",
    "# from pydap.cas.urs import setup_session\n",
    "\n",
    "# username = \"<earthdata_username>\"\n",
    "# password= \"<earthdata_password>\"\n",
    "\n",
    "# url = urls[0]\n",
    "# session = setup_session(username, password, check_url=url)\n",
    "# pydap_ds = open_url(url, session=session)\n",
    "\n",
    "# store = xr.backends.PydapDataStore(pydap_ds)\n",
    "# ds = xr.open_dataset(store)"
   ]
  },
  {
   "attachments": {},
   "cell_type": "markdown",
   "metadata": {},
   "source": [
    "## Define File Pattern\n",
    "\n",
    "Now that we have looked a a single file from the dataset, we can use `pangeo-forge-cmr` to create the file pattern.\n",
    "\n"
   ]
  },
  {
   "cell_type": "code",
   "execution_count": null,
   "metadata": {},
   "outputs": [],
   "source": [
    "pattern = files_from_cmr( \n",
    "    shortname,\n",
    "    version, \n",
    "    nitems_per_file=1,\n",
    "    concat_dim='time',  \n",
    ")"
   ]
  },
  {
   "cell_type": "code",
   "execution_count": null,
   "metadata": {},
   "outputs": [],
   "source": [
    "pattern  = pattern.prune()"
   ]
  },
  {
   "attachments": {},
   "cell_type": "markdown",
   "metadata": {},
   "source": [
    "## Define the Pipeline\n",
    "Now that we have the file pattern defined, we can start piecing together the processing pipeline."
   ]
  },
  {
   "cell_type": "code",
   "execution_count": null,
   "metadata": {},
   "outputs": [],
   "source": [
    "import apache_beam as beam\n",
    "from pangeo_forge_recipes.transforms import OpenURLWithFSSpec, OpenWithXarray, StoreToZarr"
   ]
  },
  {
   "attachments": {},
   "cell_type": "markdown",
   "metadata": {},
   "source": [
    "For this example, lets create a temporary location for the data."
   ]
  },
  {
   "cell_type": "code",
   "execution_count": null,
   "metadata": {},
   "outputs": [],
   "source": [
    "import os\n",
    "from tempfile import TemporaryDirectory\n",
    "td = TemporaryDirectory()\n",
    "target_root = td.name\n",
    "store_name = \"NASA_CMR.zarr\"\n",
    "target_store = os.path.join(target_root, store_name)\n",
    "target_store"
   ]
  },
  {
   "attachments": {},
   "cell_type": "markdown",
   "metadata": {},
   "source": [
    "### Assemble the Pipeline\n",
    "\n",
    "Now we will use our `pattern` created by `pangeo-forge-cmr` as inputs to our beam-pipeline. This should be the same as other `Xarray-Zarr` based example pipelines. "
   ]
  },
  {
   "cell_type": "code",
   "execution_count": null,
   "metadata": {},
   "outputs": [],
   "source": [
    "transforms = (\n",
    "    beam.Create(pattern.items())\n",
    "    | OpenURLWithEarthDataLogin()\n",
    "    | OpenWithXarray(file_type=pattern.file_type)\n",
    "    | StoreToZarr(\n",
    "        store_name=store_name,\n",
    "        target_root=target_root,\n",
    "        combine_dims=pattern.combine_dim_keys,\n",
    "        target_chunks={\"time\": 1}\n",
    "    )\n",
    ")\n",
    "transforms\n"
   ]
  },
  {
   "cell_type": "code",
   "execution_count": null,
   "metadata": {},
   "outputs": [],
   "source": [
    "with beam.Pipeline() as p:\n",
    "    p | transforms"
   ]
  },
  {
   "attachments": {},
   "cell_type": "markdown",
   "metadata": {},
   "source": [
    "# Check The Outputs"
   ]
  },
  {
   "cell_type": "code",
   "execution_count": null,
   "metadata": {},
   "outputs": [],
   "source": [
    "ds_target =  xr.open_dataset(target_store, engine=\"zarr\", chunks={})\n",
    "ds_target"
   ]
  },
  {
   "cell_type": "code",
   "execution_count": null,
   "metadata": {},
   "outputs": [],
   "source": [
    "ds_target['HQprecipitation'].isel(time=0).plot()"
   ]
  }
 ],
 "metadata": {
  "kernelspec": {
   "display_name": "pangeo-forge-recipes",
   "language": "python",
   "name": "python3"
  },
  "language_info": {
   "codemirror_mode": {
    "name": "ipython",
    "version": 3
   },
   "file_extension": ".py",
   "mimetype": "text/x-python",
   "name": "python",
   "nbconvert_exporter": "python",
   "pygments_lexer": "ipython3",
   "version": "3.9.16"
  },
  "orig_nbformat": 4
 },
 "nbformat": 4,
 "nbformat_minor": 2
}
