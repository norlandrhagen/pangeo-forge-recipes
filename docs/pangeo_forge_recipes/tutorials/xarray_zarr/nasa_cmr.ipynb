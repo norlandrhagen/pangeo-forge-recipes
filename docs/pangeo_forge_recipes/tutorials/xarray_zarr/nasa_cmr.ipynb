{
 "cells": [
  {
   "attachments": {},
   "cell_type": "markdown",
   "metadata": {},
   "source": [
    "# NASA CMR Recipe: GPM IMERG Late Precipitation\n",
    "\n",
    "This tutorial shows how to use the library [pangeo-forge-cmr](https://github.com/yuvipanda/pangeo-forge-cmr) to create a recipe from files cataloged within [NASA's Common Metadata Repository](https://www.earthdata.nasa.gov/eosdis/science-system-description/eosdis-components/cmr) (CMR). Using this library allows us to create recipes from a large catalog of archival NASA data.\n",
    "\n"
   ]
  },
  {
   "attachments": {},
   "cell_type": "markdown",
   "metadata": {},
   "source": [
    "## Background\n",
    "\n",
    "This dataset is stored as `.netcdf` files and will be written to zarr. The only difference in this recipe should be the pattern creation. We will use the `pangeo-forge-cmr` library to help us with the recipe pattern generation and credentials to access data across the NASA CMR. From there on, this tutorial should look similar to other `Xarray-Zarr` tutorials.\n",
    "\n",
    "The dataset we are looking at is a NASA satellite product of global surface precipitation. "
   ]
  },
  {
   "attachments": {},
   "cell_type": "markdown",
   "metadata": {},
   "source": [
    "## Examine a Single File\n",
    "Since we are interested in the GPM IMERG dataset, we can infer some information about it on the [NASA GSFC DAAC website](https://disc.gsfc.nasa.gov/datasets/GPM_3IMERGDL_06/summary).\n",
    "\n",
    "Here we can see the `short_name` for the dataset is `GPM_3IMERGDL` and the current `version` is `06`. We will need this information for `pangeo-forge-cmr` to construct a valid file pattern."
   ]
  },
  {
   "cell_type": "code",
   "execution_count": 10,
   "metadata": {},
   "outputs": [],
   "source": [
    "from pangeo_forge_cmr import files_from_cmr, get_cmr_granule_links\n",
    "from pangeo_forge_earthdatalogin import OpenURLWithEarthDataLogin\n",
    "\n",
    "shortname = 'GPM_3IMERGDL'\n",
    "version = '06'"
   ]
  },
  {
   "cell_type": "code",
   "execution_count": 11,
   "metadata": {},
   "outputs": [
    {
     "name": "stdout",
     "output_type": "stream",
     "text": [
      "Requirement already satisfied: apache-beam[dataframe,gcp,interactive] in /Users/nrhagen/opt/anaconda3/envs/install/envs/pangeo-forge-recipes/lib/python3.9/site-packages (2.47.0)\n",
      "Requirement already satisfied: crcmod<2.0,>=1.7 in /Users/nrhagen/opt/anaconda3/envs/install/envs/pangeo-forge-recipes/lib/python3.9/site-packages (from apache-beam[dataframe,gcp,interactive]) (1.7)\n",
      "Requirement already satisfied: orjson<4.0 in /Users/nrhagen/opt/anaconda3/envs/install/envs/pangeo-forge-recipes/lib/python3.9/site-packages (from apache-beam[dataframe,gcp,interactive]) (3.8.10)\n",
      "Requirement already satisfied: dill<0.3.2,>=0.3.1.1 in /Users/nrhagen/opt/anaconda3/envs/install/envs/pangeo-forge-recipes/lib/python3.9/site-packages (from apache-beam[dataframe,gcp,interactive]) (0.3.1.1)\n",
      "Requirement already satisfied: cloudpickle~=2.2.1 in /Users/nrhagen/opt/anaconda3/envs/install/envs/pangeo-forge-recipes/lib/python3.9/site-packages (from apache-beam[dataframe,gcp,interactive]) (2.2.1)\n",
      "Requirement already satisfied: fastavro<2,>=0.23.6 in /Users/nrhagen/opt/anaconda3/envs/install/envs/pangeo-forge-recipes/lib/python3.9/site-packages (from apache-beam[dataframe,gcp,interactive]) (1.7.3)\n",
      "Requirement already satisfied: fasteners<1.0,>=0.3 in /Users/nrhagen/opt/anaconda3/envs/install/envs/pangeo-forge-recipes/lib/python3.9/site-packages (from apache-beam[dataframe,gcp,interactive]) (0.17.3)\n",
      "Requirement already satisfied: grpcio!=1.48.0,<2,>=1.33.1 in /Users/nrhagen/opt/anaconda3/envs/install/envs/pangeo-forge-recipes/lib/python3.9/site-packages (from apache-beam[dataframe,gcp,interactive]) (1.51.1)\n",
      "Requirement already satisfied: hdfs<3.0.0,>=2.1.0 in /Users/nrhagen/opt/anaconda3/envs/install/envs/pangeo-forge-recipes/lib/python3.9/site-packages (from apache-beam[dataframe,gcp,interactive]) (2.7.0)\n",
      "Requirement already satisfied: httplib2<0.22.0,>=0.8 in /Users/nrhagen/opt/anaconda3/envs/install/envs/pangeo-forge-recipes/lib/python3.9/site-packages (from apache-beam[dataframe,gcp,interactive]) (0.21.0)\n",
      "Requirement already satisfied: numpy<1.25.0,>=1.14.3 in /Users/nrhagen/opt/anaconda3/envs/install/envs/pangeo-forge-recipes/lib/python3.9/site-packages (from apache-beam[dataframe,gcp,interactive]) (1.24.3)\n",
      "Requirement already satisfied: objsize<0.7.0,>=0.6.1 in /Users/nrhagen/opt/anaconda3/envs/install/envs/pangeo-forge-recipes/lib/python3.9/site-packages (from apache-beam[dataframe,gcp,interactive]) (0.6.1)\n",
      "Requirement already satisfied: pymongo<5.0.0,>=3.8.0 in /Users/nrhagen/opt/anaconda3/envs/install/envs/pangeo-forge-recipes/lib/python3.9/site-packages (from apache-beam[dataframe,gcp,interactive]) (3.13.0)\n",
      "Requirement already satisfied: proto-plus<2,>=1.7.1 in /Users/nrhagen/opt/anaconda3/envs/install/envs/pangeo-forge-recipes/lib/python3.9/site-packages (from apache-beam[dataframe,gcp,interactive]) (1.22.2)\n",
      "Requirement already satisfied: protobuf<4.23.0,>=3.20.3 in /Users/nrhagen/opt/anaconda3/envs/install/envs/pangeo-forge-recipes/lib/python3.9/site-packages (from apache-beam[dataframe,gcp,interactive]) (4.21.12)\n",
      "Requirement already satisfied: pydot<2,>=1.2.0 in /Users/nrhagen/opt/anaconda3/envs/install/envs/pangeo-forge-recipes/lib/python3.9/site-packages (from apache-beam[dataframe,gcp,interactive]) (1.4.2)\n",
      "Requirement already satisfied: python-dateutil<3,>=2.8.0 in /Users/nrhagen/opt/anaconda3/envs/install/envs/pangeo-forge-recipes/lib/python3.9/site-packages (from apache-beam[dataframe,gcp,interactive]) (2.8.2)\n",
      "Requirement already satisfied: pytz>=2018.3 in /Users/nrhagen/opt/anaconda3/envs/install/envs/pangeo-forge-recipes/lib/python3.9/site-packages (from apache-beam[dataframe,gcp,interactive]) (2023.3)\n",
      "Requirement already satisfied: regex>=2020.6.8 in /Users/nrhagen/opt/anaconda3/envs/install/envs/pangeo-forge-recipes/lib/python3.9/site-packages (from apache-beam[dataframe,gcp,interactive]) (2023.3.23)\n",
      "Requirement already satisfied: requests<3.0.0,>=2.24.0 in /Users/nrhagen/opt/anaconda3/envs/install/envs/pangeo-forge-recipes/lib/python3.9/site-packages (from apache-beam[dataframe,gcp,interactive]) (2.29.0)\n",
      "Requirement already satisfied: typing-extensions>=3.7.0 in /Users/nrhagen/opt/anaconda3/envs/install/envs/pangeo-forge-recipes/lib/python3.9/site-packages (from apache-beam[dataframe,gcp,interactive]) (4.5.0)\n",
      "Requirement already satisfied: zstandard<1,>=0.18.0 in /Users/nrhagen/opt/anaconda3/envs/install/envs/pangeo-forge-recipes/lib/python3.9/site-packages (from apache-beam[dataframe,gcp,interactive]) (0.19.0)\n",
      "Requirement already satisfied: pyarrow<12.0.0,>=3.0.0 in /Users/nrhagen/opt/anaconda3/envs/install/envs/pangeo-forge-recipes/lib/python3.9/site-packages (from apache-beam[dataframe,gcp,interactive]) (11.0.0)\n",
      "Requirement already satisfied: pandas!=1.5.0,!=1.5.1,<1.6,>=1.4.3 in /Users/nrhagen/opt/anaconda3/envs/install/envs/pangeo-forge-recipes/lib/python3.9/site-packages (from apache-beam[dataframe,gcp,interactive]) (1.5.3)\n",
      "Requirement already satisfied: facets-overview<2,>=1.1.0 in /Users/nrhagen/opt/anaconda3/envs/install/envs/pangeo-forge-recipes/lib/python3.9/site-packages (from apache-beam[dataframe,gcp,interactive]) (1.1.0)\n",
      "Requirement already satisfied: google-cloud-dataproc<6,>=5.0.0 in /Users/nrhagen/opt/anaconda3/envs/install/envs/pangeo-forge-recipes/lib/python3.9/site-packages (from apache-beam[dataframe,gcp,interactive]) (5.4.1)\n",
      "Requirement already satisfied: ipykernel<7,>=6 in /Users/nrhagen/opt/anaconda3/envs/install/envs/pangeo-forge-recipes/lib/python3.9/site-packages (from apache-beam[dataframe,gcp,interactive]) (6.22.0)\n",
      "Requirement already satisfied: ipywidgets<9,>=8 in /Users/nrhagen/opt/anaconda3/envs/install/envs/pangeo-forge-recipes/lib/python3.9/site-packages (from apache-beam[dataframe,gcp,interactive]) (8.0.6)\n",
      "Requirement already satisfied: jupyter-client!=6.1.13,<8.0.4,>=6.1.11 in /Users/nrhagen/opt/anaconda3/envs/install/envs/pangeo-forge-recipes/lib/python3.9/site-packages (from apache-beam[dataframe,gcp,interactive]) (8.0.2)\n",
      "Requirement already satisfied: timeloop<2,>=1.0.2 in /Users/nrhagen/opt/anaconda3/envs/install/envs/pangeo-forge-recipes/lib/python3.9/site-packages (from apache-beam[dataframe,gcp,interactive]) (1.0.2)\n",
      "Requirement already satisfied: ipython<9,>=8 in /Users/nrhagen/opt/anaconda3/envs/install/envs/pangeo-forge-recipes/lib/python3.9/site-packages (from apache-beam[dataframe,gcp,interactive]) (8.12.0)\n",
      "Requirement already satisfied: cachetools<5,>=3.1.0 in /Users/nrhagen/opt/anaconda3/envs/install/envs/pangeo-forge-recipes/lib/python3.9/site-packages (from apache-beam[dataframe,gcp,interactive]) (4.2.4)\n",
      "Requirement already satisfied: google-apitools<0.5.32,>=0.5.31 in /Users/nrhagen/opt/anaconda3/envs/install/envs/pangeo-forge-recipes/lib/python3.9/site-packages (from apache-beam[dataframe,gcp,interactive]) (0.5.31)\n",
      "Requirement already satisfied: google-auth<3,>=1.18.0 in /Users/nrhagen/opt/anaconda3/envs/install/envs/pangeo-forge-recipes/lib/python3.9/site-packages (from apache-beam[dataframe,gcp,interactive]) (2.17.3)\n",
      "Requirement already satisfied: google-auth-httplib2<0.2.0,>=0.1.0 in /Users/nrhagen/opt/anaconda3/envs/install/envs/pangeo-forge-recipes/lib/python3.9/site-packages (from apache-beam[dataframe,gcp,interactive]) (0.1.0)\n",
      "Requirement already satisfied: google-cloud-datastore<3,>=2.0.0 in /Users/nrhagen/opt/anaconda3/envs/install/envs/pangeo-forge-recipes/lib/python3.9/site-packages (from apache-beam[dataframe,gcp,interactive]) (2.15.2)\n",
      "Requirement already satisfied: google-cloud-pubsub<3,>=2.1.0 in /Users/nrhagen/opt/anaconda3/envs/install/envs/pangeo-forge-recipes/lib/python3.9/site-packages (from apache-beam[dataframe,gcp,interactive]) (2.16.0)\n",
      "Requirement already satisfied: google-cloud-pubsublite<2,>=1.2.0 in /Users/nrhagen/opt/anaconda3/envs/install/envs/pangeo-forge-recipes/lib/python3.9/site-packages (from apache-beam[dataframe,gcp,interactive]) (1.8.1)\n",
      "Requirement already satisfied: google-cloud-bigquery<4,>=2.0.0 in /Users/nrhagen/opt/anaconda3/envs/install/envs/pangeo-forge-recipes/lib/python3.9/site-packages (from apache-beam[dataframe,gcp,interactive]) (3.10.0)\n",
      "Requirement already satisfied: google-cloud-bigquery-storage<3,>=2.6.3 in /Users/nrhagen/opt/anaconda3/envs/install/envs/pangeo-forge-recipes/lib/python3.9/site-packages (from apache-beam[dataframe,gcp,interactive]) (2.16.2)\n",
      "Requirement already satisfied: google-cloud-core<3,>=2.0.0 in /Users/nrhagen/opt/anaconda3/envs/install/envs/pangeo-forge-recipes/lib/python3.9/site-packages (from apache-beam[dataframe,gcp,interactive]) (2.3.2)\n",
      "Requirement already satisfied: google-cloud-bigtable<3,>=2.0.0 in /Users/nrhagen/opt/anaconda3/envs/install/envs/pangeo-forge-recipes/lib/python3.9/site-packages (from apache-beam[dataframe,gcp,interactive]) (2.18.0)\n",
      "Requirement already satisfied: google-cloud-spanner<4,>=3.0.0 in /Users/nrhagen/opt/anaconda3/envs/install/envs/pangeo-forge-recipes/lib/python3.9/site-packages (from apache-beam[dataframe,gcp,interactive]) (3.32.0)\n",
      "Requirement already satisfied: google-cloud-dlp<4,>=3.0.0 in /Users/nrhagen/opt/anaconda3/envs/install/envs/pangeo-forge-recipes/lib/python3.9/site-packages (from apache-beam[dataframe,gcp,interactive]) (3.12.1)\n",
      "Requirement already satisfied: google-cloud-language<3,>=2.0 in /Users/nrhagen/opt/anaconda3/envs/install/envs/pangeo-forge-recipes/lib/python3.9/site-packages (from apache-beam[dataframe,gcp,interactive]) (2.9.1)\n",
      "Requirement already satisfied: google-cloud-videointelligence<3,>=2.0 in /Users/nrhagen/opt/anaconda3/envs/install/envs/pangeo-forge-recipes/lib/python3.9/site-packages (from apache-beam[dataframe,gcp,interactive]) (2.11.1)\n",
      "Requirement already satisfied: google-cloud-vision<4,>=2 in /Users/nrhagen/opt/anaconda3/envs/install/envs/pangeo-forge-recipes/lib/python3.9/site-packages (from apache-beam[dataframe,gcp,interactive]) (3.4.1)\n",
      "Requirement already satisfied: google-cloud-recommendations-ai<0.11.0,>=0.1.0 in /Users/nrhagen/opt/anaconda3/envs/install/envs/pangeo-forge-recipes/lib/python3.9/site-packages (from apache-beam[dataframe,gcp,interactive]) (0.7.1)\n",
      "Requirement already satisfied: oauth2client>=1.4.12 in /Users/nrhagen/opt/anaconda3/envs/install/envs/pangeo-forge-recipes/lib/python3.9/site-packages (from google-apitools<0.5.32,>=0.5.31->apache-beam[dataframe,gcp,interactive]) (4.1.3)\n",
      "Requirement already satisfied: six>=1.12.0 in /Users/nrhagen/opt/anaconda3/envs/install/envs/pangeo-forge-recipes/lib/python3.9/site-packages (from google-apitools<0.5.32,>=0.5.31->apache-beam[dataframe,gcp,interactive]) (1.16.0)\n",
      "Requirement already satisfied: pyasn1-modules>=0.2.1 in /Users/nrhagen/opt/anaconda3/envs/install/envs/pangeo-forge-recipes/lib/python3.9/site-packages (from google-auth<3,>=1.18.0->apache-beam[dataframe,gcp,interactive]) (0.2.7)\n",
      "Requirement already satisfied: rsa<5,>=3.1.4 in /Users/nrhagen/opt/anaconda3/envs/install/envs/pangeo-forge-recipes/lib/python3.9/site-packages (from google-auth<3,>=1.18.0->apache-beam[dataframe,gcp,interactive]) (4.9)\n",
      "Requirement already satisfied: google-api-core[grpc]!=2.0.*,!=2.1.*,!=2.2.*,!=2.3.0,<3.0.0dev,>=1.31.5 in /Users/nrhagen/opt/anaconda3/envs/install/envs/pangeo-forge-recipes/lib/python3.9/site-packages (from google-cloud-bigquery<4,>=2.0.0->apache-beam[dataframe,gcp,interactive]) (2.11.0)\n",
      "Requirement already satisfied: google-resumable-media<3.0dev,>=0.6.0 in /Users/nrhagen/opt/anaconda3/envs/install/envs/pangeo-forge-recipes/lib/python3.9/site-packages (from google-cloud-bigquery<4,>=2.0.0->apache-beam[dataframe,gcp,interactive]) (2.5.0)\n",
      "Requirement already satisfied: packaging>=20.0.0 in /Users/nrhagen/opt/anaconda3/envs/install/envs/pangeo-forge-recipes/lib/python3.9/site-packages (from google-cloud-bigquery<4,>=2.0.0->apache-beam[dataframe,gcp,interactive]) (23.1)\n",
      "Requirement already satisfied: grpc-google-iam-v1<1.0.0dev,>=0.12.4 in /Users/nrhagen/opt/anaconda3/envs/install/envs/pangeo-forge-recipes/lib/python3.9/site-packages (from google-cloud-bigtable<3,>=2.0.0->apache-beam[dataframe,gcp,interactive]) (0.12.6)\n",
      "Requirement already satisfied: grpcio-status>=1.33.2 in /Users/nrhagen/opt/anaconda3/envs/install/envs/pangeo-forge-recipes/lib/python3.9/site-packages (from google-cloud-pubsub<3,>=2.1.0->apache-beam[dataframe,gcp,interactive]) (1.48.2)\n",
      "Requirement already satisfied: overrides<7.0.0,>=6.0.1 in /Users/nrhagen/opt/anaconda3/envs/install/envs/pangeo-forge-recipes/lib/python3.9/site-packages (from google-cloud-pubsublite<2,>=1.2.0->apache-beam[dataframe,gcp,interactive]) (6.5.0)\n",
      "Requirement already satisfied: sqlparse>=0.3.0 in /Users/nrhagen/opt/anaconda3/envs/install/envs/pangeo-forge-recipes/lib/python3.9/site-packages (from google-cloud-spanner<4,>=3.0.0->apache-beam[dataframe,gcp,interactive]) (0.4.4)\n",
      "Requirement already satisfied: docopt in /Users/nrhagen/opt/anaconda3/envs/install/envs/pangeo-forge-recipes/lib/python3.9/site-packages (from hdfs<3.0.0,>=2.1.0->apache-beam[dataframe,gcp,interactive]) (0.6.2)\n",
      "Requirement already satisfied: pyparsing!=3.0.0,!=3.0.1,!=3.0.2,!=3.0.3,<4,>=2.4.2 in /Users/nrhagen/opt/anaconda3/envs/install/envs/pangeo-forge-recipes/lib/python3.9/site-packages (from httplib2<0.22.0,>=0.8->apache-beam[dataframe,gcp,interactive]) (3.0.9)\n",
      "Requirement already satisfied: appnope in /Users/nrhagen/opt/anaconda3/envs/install/envs/pangeo-forge-recipes/lib/python3.9/site-packages (from ipykernel<7,>=6->apache-beam[dataframe,gcp,interactive]) (0.1.3)\n",
      "Requirement already satisfied: comm>=0.1.1 in /Users/nrhagen/opt/anaconda3/envs/install/envs/pangeo-forge-recipes/lib/python3.9/site-packages (from ipykernel<7,>=6->apache-beam[dataframe,gcp,interactive]) (0.1.3)\n",
      "Requirement already satisfied: debugpy>=1.6.5 in /Users/nrhagen/opt/anaconda3/envs/install/envs/pangeo-forge-recipes/lib/python3.9/site-packages (from ipykernel<7,>=6->apache-beam[dataframe,gcp,interactive]) (1.6.7)\n",
      "Requirement already satisfied: jupyter-core!=5.0.*,>=4.12 in /Users/nrhagen/opt/anaconda3/envs/install/envs/pangeo-forge-recipes/lib/python3.9/site-packages (from ipykernel<7,>=6->apache-beam[dataframe,gcp,interactive]) (5.3.0)\n",
      "Requirement already satisfied: matplotlib-inline>=0.1 in /Users/nrhagen/opt/anaconda3/envs/install/envs/pangeo-forge-recipes/lib/python3.9/site-packages (from ipykernel<7,>=6->apache-beam[dataframe,gcp,interactive]) (0.1.6)\n",
      "Requirement already satisfied: nest-asyncio in /Users/nrhagen/opt/anaconda3/envs/install/envs/pangeo-forge-recipes/lib/python3.9/site-packages (from ipykernel<7,>=6->apache-beam[dataframe,gcp,interactive]) (1.5.6)\n",
      "Requirement already satisfied: psutil in /Users/nrhagen/opt/anaconda3/envs/install/envs/pangeo-forge-recipes/lib/python3.9/site-packages (from ipykernel<7,>=6->apache-beam[dataframe,gcp,interactive]) (5.9.5)\n",
      "Requirement already satisfied: pyzmq>=20 in /Users/nrhagen/opt/anaconda3/envs/install/envs/pangeo-forge-recipes/lib/python3.9/site-packages (from ipykernel<7,>=6->apache-beam[dataframe,gcp,interactive]) (25.0.2)\n",
      "Requirement already satisfied: tornado>=6.1 in /Users/nrhagen/opt/anaconda3/envs/install/envs/pangeo-forge-recipes/lib/python3.9/site-packages (from ipykernel<7,>=6->apache-beam[dataframe,gcp,interactive]) (6.3)\n",
      "Requirement already satisfied: traitlets>=5.4.0 in /Users/nrhagen/opt/anaconda3/envs/install/envs/pangeo-forge-recipes/lib/python3.9/site-packages (from ipykernel<7,>=6->apache-beam[dataframe,gcp,interactive]) (5.9.0)\n",
      "Requirement already satisfied: backcall in /Users/nrhagen/opt/anaconda3/envs/install/envs/pangeo-forge-recipes/lib/python3.9/site-packages (from ipython<9,>=8->apache-beam[dataframe,gcp,interactive]) (0.2.0)\n",
      "Requirement already satisfied: decorator in /Users/nrhagen/opt/anaconda3/envs/install/envs/pangeo-forge-recipes/lib/python3.9/site-packages (from ipython<9,>=8->apache-beam[dataframe,gcp,interactive]) (5.1.1)\n",
      "Requirement already satisfied: jedi>=0.16 in /Users/nrhagen/opt/anaconda3/envs/install/envs/pangeo-forge-recipes/lib/python3.9/site-packages (from ipython<9,>=8->apache-beam[dataframe,gcp,interactive]) (0.18.2)\n",
      "Requirement already satisfied: pickleshare in /Users/nrhagen/opt/anaconda3/envs/install/envs/pangeo-forge-recipes/lib/python3.9/site-packages (from ipython<9,>=8->apache-beam[dataframe,gcp,interactive]) (0.7.5)\n",
      "Requirement already satisfied: prompt-toolkit!=3.0.37,<3.1.0,>=3.0.30 in /Users/nrhagen/opt/anaconda3/envs/install/envs/pangeo-forge-recipes/lib/python3.9/site-packages (from ipython<9,>=8->apache-beam[dataframe,gcp,interactive]) (3.0.38)\n",
      "Requirement already satisfied: pygments>=2.4.0 in /Users/nrhagen/opt/anaconda3/envs/install/envs/pangeo-forge-recipes/lib/python3.9/site-packages (from ipython<9,>=8->apache-beam[dataframe,gcp,interactive]) (2.15.1)\n",
      "Requirement already satisfied: stack-data in /Users/nrhagen/opt/anaconda3/envs/install/envs/pangeo-forge-recipes/lib/python3.9/site-packages (from ipython<9,>=8->apache-beam[dataframe,gcp,interactive]) (0.6.2)\n",
      "Requirement already satisfied: pexpect>4.3 in /Users/nrhagen/opt/anaconda3/envs/install/envs/pangeo-forge-recipes/lib/python3.9/site-packages (from ipython<9,>=8->apache-beam[dataframe,gcp,interactive]) (4.8.0)\n",
      "Requirement already satisfied: widgetsnbextension~=4.0.7 in /Users/nrhagen/opt/anaconda3/envs/install/envs/pangeo-forge-recipes/lib/python3.9/site-packages (from ipywidgets<9,>=8->apache-beam[dataframe,gcp,interactive]) (4.0.7)\n",
      "Requirement already satisfied: jupyterlab-widgets~=3.0.7 in /Users/nrhagen/opt/anaconda3/envs/install/envs/pangeo-forge-recipes/lib/python3.9/site-packages (from ipywidgets<9,>=8->apache-beam[dataframe,gcp,interactive]) (3.0.7)\n",
      "Requirement already satisfied: importlib-metadata>=4.8.3 in /Users/nrhagen/opt/anaconda3/envs/install/envs/pangeo-forge-recipes/lib/python3.9/site-packages (from jupyter-client!=6.1.13,<8.0.4,>=6.1.11->apache-beam[dataframe,gcp,interactive]) (6.6.0)\n",
      "Requirement already satisfied: charset-normalizer<4,>=2 in /Users/nrhagen/opt/anaconda3/envs/install/envs/pangeo-forge-recipes/lib/python3.9/site-packages (from requests<3.0.0,>=2.24.0->apache-beam[dataframe,gcp,interactive]) (2.1.1)\n",
      "Requirement already satisfied: idna<4,>=2.5 in /Users/nrhagen/opt/anaconda3/envs/install/envs/pangeo-forge-recipes/lib/python3.9/site-packages (from requests<3.0.0,>=2.24.0->apache-beam[dataframe,gcp,interactive]) (3.4)\n",
      "Requirement already satisfied: urllib3<1.27,>=1.21.1 in /Users/nrhagen/opt/anaconda3/envs/install/envs/pangeo-forge-recipes/lib/python3.9/site-packages (from requests<3.0.0,>=2.24.0->apache-beam[dataframe,gcp,interactive]) (1.26.15)\n",
      "Requirement already satisfied: certifi>=2017.4.17 in /Users/nrhagen/opt/anaconda3/envs/install/envs/pangeo-forge-recipes/lib/python3.9/site-packages (from requests<3.0.0,>=2.24.0->apache-beam[dataframe,gcp,interactive]) (2023.5.7)\n",
      "Requirement already satisfied: googleapis-common-protos<2.0dev,>=1.56.2 in /Users/nrhagen/opt/anaconda3/envs/install/envs/pangeo-forge-recipes/lib/python3.9/site-packages (from google-api-core[grpc]!=2.0.*,!=2.1.*,!=2.2.*,!=2.3.0,<3.0.0dev,>=1.31.5->google-cloud-bigquery<4,>=2.0.0->apache-beam[dataframe,gcp,interactive]) (1.57.1)\n",
      "Requirement already satisfied: google-crc32c<2.0dev,>=1.0 in /Users/nrhagen/opt/anaconda3/envs/install/envs/pangeo-forge-recipes/lib/python3.9/site-packages (from google-resumable-media<3.0dev,>=0.6.0->google-cloud-bigquery<4,>=2.0.0->apache-beam[dataframe,gcp,interactive]) (1.1.2)\n",
      "Requirement already satisfied: zipp>=0.5 in /Users/nrhagen/opt/anaconda3/envs/install/envs/pangeo-forge-recipes/lib/python3.9/site-packages (from importlib-metadata>=4.8.3->jupyter-client!=6.1.13,<8.0.4,>=6.1.11->apache-beam[dataframe,gcp,interactive]) (3.15.0)\n",
      "Requirement already satisfied: parso<0.9.0,>=0.8.0 in /Users/nrhagen/opt/anaconda3/envs/install/envs/pangeo-forge-recipes/lib/python3.9/site-packages (from jedi>=0.16->ipython<9,>=8->apache-beam[dataframe,gcp,interactive]) (0.8.3)\n",
      "Requirement already satisfied: platformdirs>=2.5 in /Users/nrhagen/opt/anaconda3/envs/install/envs/pangeo-forge-recipes/lib/python3.9/site-packages (from jupyter-core!=5.0.*,>=4.12->ipykernel<7,>=6->apache-beam[dataframe,gcp,interactive]) (3.3.0)\n",
      "Requirement already satisfied: pyasn1>=0.1.7 in /Users/nrhagen/opt/anaconda3/envs/install/envs/pangeo-forge-recipes/lib/python3.9/site-packages (from oauth2client>=1.4.12->google-apitools<0.5.32,>=0.5.31->apache-beam[dataframe,gcp,interactive]) (0.4.8)\n",
      "Requirement already satisfied: ptyprocess>=0.5 in /Users/nrhagen/opt/anaconda3/envs/install/envs/pangeo-forge-recipes/lib/python3.9/site-packages (from pexpect>4.3->ipython<9,>=8->apache-beam[dataframe,gcp,interactive]) (0.7.0)\n",
      "Requirement already satisfied: wcwidth in /Users/nrhagen/opt/anaconda3/envs/install/envs/pangeo-forge-recipes/lib/python3.9/site-packages (from prompt-toolkit!=3.0.37,<3.1.0,>=3.0.30->ipython<9,>=8->apache-beam[dataframe,gcp,interactive]) (0.2.6)\n",
      "Requirement already satisfied: executing>=1.2.0 in /Users/nrhagen/opt/anaconda3/envs/install/envs/pangeo-forge-recipes/lib/python3.9/site-packages (from stack-data->ipython<9,>=8->apache-beam[dataframe,gcp,interactive]) (1.2.0)\n",
      "Requirement already satisfied: asttokens>=2.1.0 in /Users/nrhagen/opt/anaconda3/envs/install/envs/pangeo-forge-recipes/lib/python3.9/site-packages (from stack-data->ipython<9,>=8->apache-beam[dataframe,gcp,interactive]) (2.2.1)\n",
      "Requirement already satisfied: pure-eval in /Users/nrhagen/opt/anaconda3/envs/install/envs/pangeo-forge-recipes/lib/python3.9/site-packages (from stack-data->ipython<9,>=8->apache-beam[dataframe,gcp,interactive]) (0.2.2)\n",
      "Requirement already satisfied: cffi>=1.0.0 in /Users/nrhagen/opt/anaconda3/envs/install/envs/pangeo-forge-recipes/lib/python3.9/site-packages (from google-crc32c<2.0dev,>=1.0->google-resumable-media<3.0dev,>=0.6.0->google-cloud-bigquery<4,>=2.0.0->apache-beam[dataframe,gcp,interactive]) (1.15.1)\n",
      "Requirement already satisfied: pycparser in /Users/nrhagen/opt/anaconda3/envs/install/envs/pangeo-forge-recipes/lib/python3.9/site-packages (from cffi>=1.0.0->google-crc32c<2.0dev,>=1.0->google-resumable-media<3.0dev,>=0.6.0->google-cloud-bigquery<4,>=2.0.0->apache-beam[dataframe,gcp,interactive]) (2.21)\n"
     ]
    }
   ],
   "source": [
    "!pip install \"apache-beam[gcp,interactive,dataframe]\""
   ]
  },
  {
   "cell_type": "code",
   "execution_count": 12,
   "metadata": {},
   "outputs": [],
   "source": [
    "urls = get_cmr_granule_links(shortname, version)"
   ]
  },
  {
   "cell_type": "code",
   "execution_count": 3,
   "metadata": {},
   "outputs": [],
   "source": [
    "# import xarray as xr\n",
    "# from pydap.client import open_url\n",
    "# from pydap.cas.urs import setup_session\n",
    "\n",
    "# username = \"<earthdata_username>\"\n",
    "# password= \"<earthdata_password>\"\n",
    "\n",
    "# url = urls[0]\n",
    "# session = setup_session(username, password, check_url=url)\n",
    "# pydap_ds = open_url(url, session=session)\n",
    "\n",
    "# store = xr.backends.PydapDataStore(pydap_ds)\n",
    "# ds = xr.open_dataset(store)"
   ]
  },
  {
   "attachments": {},
   "cell_type": "markdown",
   "metadata": {},
   "source": [
    "## Define File Pattern\n",
    "\n",
    "Now that we have looked a a single file from the dataset, we can use `pangeo-forge-cmr` to create the file pattern.\n",
    "\n"
   ]
  },
  {
   "cell_type": "code",
   "execution_count": 13,
   "metadata": {},
   "outputs": [],
   "source": [
    "pattern = files_from_cmr( \n",
    "    shortname,\n",
    "    version, \n",
    "    nitems_per_file=1,\n",
    "    concat_dim='time',  \n",
    ")"
   ]
  },
  {
   "cell_type": "code",
   "execution_count": 14,
   "metadata": {},
   "outputs": [],
   "source": [
    "pattern  = pattern.prune()"
   ]
  },
  {
   "attachments": {},
   "cell_type": "markdown",
   "metadata": {},
   "source": [
    "## Define the Pipeline\n",
    "Now that we have the file pattern defined, we can start piecing together the processing pipeline."
   ]
  },
  {
   "cell_type": "code",
   "execution_count": 15,
   "metadata": {},
   "outputs": [],
   "source": [
    "import apache_beam as beam\n",
    "from pangeo_forge_recipes.transforms import OpenURLWithFSSpec, OpenWithXarray, StoreToZarr"
   ]
  },
  {
   "attachments": {},
   "cell_type": "markdown",
   "metadata": {},
   "source": [
    "For this example, lets create a temporary location for the data."
   ]
  },
  {
   "cell_type": "code",
   "execution_count": 16,
   "metadata": {},
   "outputs": [
    {
     "data": {
      "text/plain": [
       "'/var/folders/mb/7d7yq_4j2qgdfm_j3j4tsyl40000gn/T/tmpvoci6cf8/NASA_CMR.zarr'"
      ]
     },
     "execution_count": 16,
     "metadata": {},
     "output_type": "execute_result"
    }
   ],
   "source": [
    "import os\n",
    "from tempfile import TemporaryDirectory\n",
    "td = TemporaryDirectory()\n",
    "target_root = td.name\n",
    "store_name = \"NASA_CMR.zarr\"\n",
    "target_store = os.path.join(target_root, store_name)\n",
    "target_store"
   ]
  },
  {
   "attachments": {},
   "cell_type": "markdown",
   "metadata": {},
   "source": [
    "### Assemble the Pipeline\n",
    "\n",
    "Now we will use our `pattern` created by `pangeo-forge-cmr` as inputs to our beam-pipeline. This should be the same as other `Xarray-Zarr` based example pipelines. "
   ]
  },
  {
   "cell_type": "code",
   "execution_count": 17,
   "metadata": {},
   "outputs": [
    {
     "data": {
      "text/plain": [
       "<_ChainedPTransform(PTransform) label=[Create|OpenURLWithEarthDataLogin] at 0x17eaaf0a0>"
      ]
     },
     "execution_count": 17,
     "metadata": {},
     "output_type": "execute_result"
    }
   ],
   "source": [
    "transforms = (\n",
    "    beam.Create(pattern.items())\n",
    "    | OpenURLWithEarthDataLogin()\n",
    "    # | OpenWithXarray(file_type=pattern.file_type)\n",
    "    # | StoreToZarr(\n",
    "    #     store_name=store_name,\n",
    "    #     target_root=target_root,\n",
    "    #     combine_dims=pattern.combine_dim_keys,\n",
    "    #     target_chunks={\"time\": 1}\n",
    "    # )\n",
    ")\n",
    "transforms\n"
   ]
  },
  {
   "cell_type": "code",
   "execution_count": 18,
   "metadata": {},
   "outputs": [
    {
     "ename": "AttributeError",
     "evalue": "type object 'Series' has no attribute 'append'",
     "output_type": "error",
     "traceback": [
      "\u001b[0;31m---------------------------------------------------------------------------\u001b[0m",
      "\u001b[0;31mAttributeError\u001b[0m                            Traceback (most recent call last)",
      "Cell \u001b[0;32mIn[18], line 2\u001b[0m\n\u001b[1;32m      1\u001b[0m \u001b[39mwith\u001b[39;00m beam\u001b[39m.\u001b[39mPipeline() \u001b[39mas\u001b[39;00m p:\n\u001b[0;32m----> 2\u001b[0m     p \u001b[39m|\u001b[39;49m transforms\n",
      "File \u001b[0;32m~/opt/anaconda3/envs/install/envs/pangeo-forge-recipes/lib/python3.9/site-packages/apache_beam/transforms/ptransform.py:617\u001b[0m, in \u001b[0;36mPTransform.__ror__\u001b[0;34m(self, left, label)\u001b[0m\n\u001b[1;32m    615\u001b[0m pvalueish \u001b[39m=\u001b[39m _SetInputPValues()\u001b[39m.\u001b[39mvisit(pvalueish, replacements)\n\u001b[1;32m    616\u001b[0m \u001b[39mself\u001b[39m\u001b[39m.\u001b[39mpipeline \u001b[39m=\u001b[39m p\n\u001b[0;32m--> 617\u001b[0m result \u001b[39m=\u001b[39m p\u001b[39m.\u001b[39;49mapply(\u001b[39mself\u001b[39;49m, pvalueish, label)\n\u001b[1;32m    618\u001b[0m \u001b[39mif\u001b[39;00m deferred:\n\u001b[1;32m    619\u001b[0m   \u001b[39mreturn\u001b[39;00m result\n",
      "File \u001b[0;32m~/opt/anaconda3/envs/install/envs/pangeo-forge-recipes/lib/python3.9/site-packages/apache_beam/pipeline.py:674\u001b[0m, in \u001b[0;36mPipeline.apply\u001b[0;34m(self, transform, pvalueish, label)\u001b[0m\n\u001b[1;32m    670\u001b[0m \u001b[39m# Attempts to alter the label of the transform to be applied only when it's\u001b[39;00m\n\u001b[1;32m    671\u001b[0m \u001b[39m# a top-level transform so that the cell number will not be prepended to\u001b[39;00m\n\u001b[1;32m    672\u001b[0m \u001b[39m# every child transform in a composite.\u001b[39;00m\n\u001b[1;32m    673\u001b[0m \u001b[39mif\u001b[39;00m \u001b[39mself\u001b[39m\u001b[39m.\u001b[39m_current_transform() \u001b[39mis\u001b[39;00m \u001b[39mself\u001b[39m\u001b[39m.\u001b[39m_root_transform():\n\u001b[0;32m--> 674\u001b[0m   alter_label_if_ipython(transform, pvalueish)\n\u001b[1;32m    676\u001b[0m full_label \u001b[39m=\u001b[39m \u001b[39m'\u001b[39m\u001b[39m/\u001b[39m\u001b[39m'\u001b[39m\u001b[39m.\u001b[39mjoin(\n\u001b[1;32m    677\u001b[0m     [\u001b[39mself\u001b[39m\u001b[39m.\u001b[39m_current_transform()\u001b[39m.\u001b[39mfull_label, label \u001b[39mor\u001b[39;00m\n\u001b[1;32m    678\u001b[0m      transform\u001b[39m.\u001b[39mlabel])\u001b[39m.\u001b[39mlstrip(\u001b[39m'\u001b[39m\u001b[39m/\u001b[39m\u001b[39m'\u001b[39m)\n\u001b[1;32m    679\u001b[0m \u001b[39mif\u001b[39;00m full_label \u001b[39min\u001b[39;00m \u001b[39mself\u001b[39m\u001b[39m.\u001b[39mapplied_labels:\n",
      "File \u001b[0;32m~/opt/anaconda3/envs/install/envs/pangeo-forge-recipes/lib/python3.9/site-packages/apache_beam/utils/interactive_utils.py:74\u001b[0m, in \u001b[0;36malter_label_if_ipython\u001b[0;34m(transform, pvalueish)\u001b[0m\n\u001b[1;32m     62\u001b[0m \u001b[39m\u001b[39m\u001b[39m\"\"\"Alters the label to an interactive label with ipython prompt metadata\u001b[39;00m\n\u001b[1;32m     63\u001b[0m \u001b[39mprefixed for the given transform if the given pvalueish belongs to a\u001b[39;00m\n\u001b[1;32m     64\u001b[0m \u001b[39muser-defined pipeline and current code execution is within an ipython kernel.\u001b[39;00m\n\u001b[0;32m   (...)\u001b[0m\n\u001b[1;32m     71\u001b[0m \u001b[39m`Cell {prompt}: {original_label}`.\u001b[39;00m\n\u001b[1;32m     72\u001b[0m \u001b[39m\"\"\"\u001b[39;00m\n\u001b[1;32m     73\u001b[0m \u001b[39mif\u001b[39;00m is_in_ipython():\n\u001b[0;32m---> 74\u001b[0m   \u001b[39mfrom\u001b[39;00m \u001b[39mapache_beam\u001b[39;00m\u001b[39m.\u001b[39;00m\u001b[39mrunners\u001b[39;00m\u001b[39m.\u001b[39;00m\u001b[39minteractive\u001b[39;00m \u001b[39mimport\u001b[39;00m interactive_environment \u001b[39mas\u001b[39;00m ie\n\u001b[1;32m     75\u001b[0m   \u001b[39m# Tracks user defined pipeline instances in watched scopes so that we only\u001b[39;00m\n\u001b[1;32m     76\u001b[0m   \u001b[39m# alter labels for any transform to pvalueish belonging to those pipeline\u001b[39;00m\n\u001b[1;32m     77\u001b[0m   \u001b[39m# instances, excluding any transform to be applied in other pipeline\u001b[39;00m\n\u001b[1;32m     78\u001b[0m   \u001b[39m# instances the Beam SDK creates implicitly.\u001b[39;00m\n\u001b[1;32m     79\u001b[0m   ie\u001b[39m.\u001b[39mcurrent_env()\u001b[39m.\u001b[39mtrack_user_pipelines()\n",
      "File \u001b[0;32m~/opt/anaconda3/envs/install/envs/pangeo-forge-recipes/lib/python3.9/site-packages/apache_beam/runners/interactive/interactive_environment.py:41\u001b[0m\n\u001b[1;32m     39\u001b[0m \u001b[39mfrom\u001b[39;00m \u001b[39mapache_beam\u001b[39;00m\u001b[39m.\u001b[39;00m\u001b[39mrunners\u001b[39;00m\u001b[39m.\u001b[39;00m\u001b[39mdirect\u001b[39;00m \u001b[39mimport\u001b[39;00m direct_runner\n\u001b[1;32m     40\u001b[0m \u001b[39mfrom\u001b[39;00m \u001b[39mapache_beam\u001b[39;00m\u001b[39m.\u001b[39;00m\u001b[39mrunners\u001b[39;00m\u001b[39m.\u001b[39;00m\u001b[39minteractive\u001b[39;00m \u001b[39mimport\u001b[39;00m cache_manager \u001b[39mas\u001b[39;00m cache\n\u001b[0;32m---> 41\u001b[0m \u001b[39mfrom\u001b[39;00m \u001b[39mapache_beam\u001b[39;00m\u001b[39m.\u001b[39;00m\u001b[39mrunners\u001b[39;00m\u001b[39m.\u001b[39;00m\u001b[39minteractive\u001b[39;00m\u001b[39m.\u001b[39;00m\u001b[39mmessaging\u001b[39;00m\u001b[39m.\u001b[39;00m\u001b[39minteractive_environment_inspector\u001b[39;00m \u001b[39mimport\u001b[39;00m InteractiveEnvironmentInspector\n\u001b[1;32m     42\u001b[0m \u001b[39mfrom\u001b[39;00m \u001b[39mapache_beam\u001b[39;00m\u001b[39m.\u001b[39;00m\u001b[39mrunners\u001b[39;00m\u001b[39m.\u001b[39;00m\u001b[39minteractive\u001b[39;00m\u001b[39m.\u001b[39;00m\u001b[39mrecording_manager\u001b[39;00m \u001b[39mimport\u001b[39;00m RecordingManager\n\u001b[1;32m     43\u001b[0m \u001b[39mfrom\u001b[39;00m \u001b[39mapache_beam\u001b[39;00m\u001b[39m.\u001b[39;00m\u001b[39mrunners\u001b[39;00m\u001b[39m.\u001b[39;00m\u001b[39minteractive\u001b[39;00m\u001b[39m.\u001b[39;00m\u001b[39msql\u001b[39;00m\u001b[39m.\u001b[39;00m\u001b[39msql_chain\u001b[39;00m \u001b[39mimport\u001b[39;00m SqlChain\n",
      "File \u001b[0;32m~/opt/anaconda3/envs/install/envs/pangeo-forge-recipes/lib/python3.9/site-packages/apache_beam/runners/interactive/messaging/interactive_environment_inspector.py:26\u001b[0m\n\u001b[1;32m     23\u001b[0m \u001b[39m# pytype: skip-file\u001b[39;00m\n\u001b[1;32m     25\u001b[0m \u001b[39mimport\u001b[39;00m \u001b[39mapache_beam\u001b[39;00m \u001b[39mas\u001b[39;00m \u001b[39mbeam\u001b[39;00m\n\u001b[0;32m---> 26\u001b[0m \u001b[39mfrom\u001b[39;00m \u001b[39mapache_beam\u001b[39;00m\u001b[39m.\u001b[39;00m\u001b[39mrunners\u001b[39;00m\u001b[39m.\u001b[39;00m\u001b[39minteractive\u001b[39;00m\u001b[39m.\u001b[39;00m\u001b[39mutils\u001b[39;00m \u001b[39mimport\u001b[39;00m as_json\n\u001b[1;32m     27\u001b[0m \u001b[39mfrom\u001b[39;00m \u001b[39mapache_beam\u001b[39;00m\u001b[39m.\u001b[39;00m\u001b[39mrunners\u001b[39;00m\u001b[39m.\u001b[39;00m\u001b[39minteractive\u001b[39;00m\u001b[39m.\u001b[39;00m\u001b[39mutils\u001b[39;00m \u001b[39mimport\u001b[39;00m obfuscate\n\u001b[1;32m     30\u001b[0m \u001b[39mclass\u001b[39;00m \u001b[39mInteractiveEnvironmentInspector\u001b[39;00m(\u001b[39mobject\u001b[39m):\n",
      "File \u001b[0;32m~/opt/anaconda3/envs/install/envs/pangeo-forge-recipes/lib/python3.9/site-packages/apache_beam/runners/interactive/utils.py:33\u001b[0m\n\u001b[1;32m     30\u001b[0m \u001b[39mimport\u001b[39;00m \u001b[39mpandas\u001b[39;00m \u001b[39mas\u001b[39;00m \u001b[39mpd\u001b[39;00m\n\u001b[1;32m     32\u001b[0m \u001b[39mimport\u001b[39;00m \u001b[39mapache_beam\u001b[39;00m \u001b[39mas\u001b[39;00m \u001b[39mbeam\u001b[39;00m\n\u001b[0;32m---> 33\u001b[0m \u001b[39mfrom\u001b[39;00m \u001b[39mapache_beam\u001b[39;00m\u001b[39m.\u001b[39;00m\u001b[39mdataframe\u001b[39;00m\u001b[39m.\u001b[39;00m\u001b[39mconvert\u001b[39;00m \u001b[39mimport\u001b[39;00m to_pcollection\n\u001b[1;32m     34\u001b[0m \u001b[39mfrom\u001b[39;00m \u001b[39mapache_beam\u001b[39;00m\u001b[39m.\u001b[39;00m\u001b[39mdataframe\u001b[39;00m\u001b[39m.\u001b[39;00m\u001b[39mframe_base\u001b[39;00m \u001b[39mimport\u001b[39;00m DeferredBase\n\u001b[1;32m     35\u001b[0m \u001b[39mfrom\u001b[39;00m \u001b[39mapache_beam\u001b[39;00m\u001b[39m.\u001b[39;00m\u001b[39minternal\u001b[39;00m\u001b[39m.\u001b[39;00m\u001b[39mgcp\u001b[39;00m \u001b[39mimport\u001b[39;00m auth\n",
      "File \u001b[0;32m~/opt/anaconda3/envs/install/envs/pangeo-forge-recipes/lib/python3.9/site-packages/apache_beam/dataframe/convert.py:33\u001b[0m\n\u001b[1;32m     31\u001b[0m \u001b[39mfrom\u001b[39;00m \u001b[39mapache_beam\u001b[39;00m\u001b[39m.\u001b[39;00m\u001b[39mdataframe\u001b[39;00m \u001b[39mimport\u001b[39;00m expressions\n\u001b[1;32m     32\u001b[0m \u001b[39mfrom\u001b[39;00m \u001b[39mapache_beam\u001b[39;00m\u001b[39m.\u001b[39;00m\u001b[39mdataframe\u001b[39;00m \u001b[39mimport\u001b[39;00m frame_base\n\u001b[0;32m---> 33\u001b[0m \u001b[39mfrom\u001b[39;00m \u001b[39mapache_beam\u001b[39;00m\u001b[39m.\u001b[39;00m\u001b[39mdataframe\u001b[39;00m \u001b[39mimport\u001b[39;00m transforms\n\u001b[1;32m     34\u001b[0m \u001b[39mfrom\u001b[39;00m \u001b[39mapache_beam\u001b[39;00m\u001b[39m.\u001b[39;00m\u001b[39mdataframe\u001b[39;00m\u001b[39m.\u001b[39;00m\u001b[39mschemas\u001b[39;00m \u001b[39mimport\u001b[39;00m element_typehint_from_dataframe_proxy\n\u001b[1;32m     35\u001b[0m \u001b[39mfrom\u001b[39;00m \u001b[39mapache_beam\u001b[39;00m\u001b[39m.\u001b[39;00m\u001b[39mdataframe\u001b[39;00m\u001b[39m.\u001b[39;00m\u001b[39mschemas\u001b[39;00m \u001b[39mimport\u001b[39;00m generate_proxy\n",
      "File \u001b[0;32m~/opt/anaconda3/envs/install/envs/pangeo-forge-recipes/lib/python3.9/site-packages/apache_beam/dataframe/transforms.py:33\u001b[0m\n\u001b[1;32m     31\u001b[0m \u001b[39mfrom\u001b[39;00m \u001b[39mapache_beam\u001b[39;00m \u001b[39mimport\u001b[39;00m transforms\n\u001b[1;32m     32\u001b[0m \u001b[39mfrom\u001b[39;00m \u001b[39mapache_beam\u001b[39;00m\u001b[39m.\u001b[39;00m\u001b[39mdataframe\u001b[39;00m \u001b[39mimport\u001b[39;00m expressions\n\u001b[0;32m---> 33\u001b[0m \u001b[39mfrom\u001b[39;00m \u001b[39mapache_beam\u001b[39;00m\u001b[39m.\u001b[39;00m\u001b[39mdataframe\u001b[39;00m \u001b[39mimport\u001b[39;00m frames  \u001b[39m# pylint: disable=unused-import\u001b[39;00m\n\u001b[1;32m     34\u001b[0m \u001b[39mfrom\u001b[39;00m \u001b[39mapache_beam\u001b[39;00m\u001b[39m.\u001b[39;00m\u001b[39mdataframe\u001b[39;00m \u001b[39mimport\u001b[39;00m partitionings\n\u001b[1;32m     35\u001b[0m \u001b[39mfrom\u001b[39;00m \u001b[39mapache_beam\u001b[39;00m\u001b[39m.\u001b[39;00m\u001b[39mutils\u001b[39;00m \u001b[39mimport\u001b[39;00m windowed_value\n",
      "File \u001b[0;32m~/opt/anaconda3/envs/install/envs/pangeo-forge-recipes/lib/python3.9/site-packages/apache_beam/dataframe/frames.py:1231\u001b[0m\n\u001b[1;32m   1224\u001b[0m       \u001b[39mreturn\u001b[39;00m func(\u001b[39m*\u001b[39margs, \u001b[39m*\u001b[39m\u001b[39m*\u001b[39mkwargs)\n\u001b[1;32m   1226\u001b[0m     \u001b[39mreturn\u001b[39;00m func(\u001b[39mself\u001b[39m, \u001b[39m*\u001b[39margs, \u001b[39m*\u001b[39m\u001b[39m*\u001b[39mkwargs)\n\u001b[1;32m   1229\u001b[0m \u001b[39m@populate_not_implemented\u001b[39m(pd\u001b[39m.\u001b[39mSeries)\n\u001b[1;32m   1230\u001b[0m \u001b[39m@frame_base\u001b[39m\u001b[39m.\u001b[39mDeferredFrame\u001b[39m.\u001b[39m_register_for(pd\u001b[39m.\u001b[39mSeries)\n\u001b[0;32m-> 1231\u001b[0m \u001b[39mclass\u001b[39;00m \u001b[39mDeferredSeries\u001b[39;00m(DeferredDataFrameOrSeries):\n\u001b[1;32m   1232\u001b[0m   \u001b[39mdef\u001b[39;00m \u001b[39m__repr__\u001b[39m(\u001b[39mself\u001b[39m):\n\u001b[1;32m   1233\u001b[0m     \u001b[39mreturn\u001b[39;00m (\n\u001b[1;32m   1234\u001b[0m         \u001b[39mf\u001b[39m\u001b[39m'\u001b[39m\u001b[39mDeferredSeries(name=\u001b[39m\u001b[39m{\u001b[39;00m\u001b[39mself\u001b[39m\u001b[39m.\u001b[39mname\u001b[39m!r}\u001b[39;00m\u001b[39m, dtype=\u001b[39m\u001b[39m{\u001b[39;00m\u001b[39mself\u001b[39m\u001b[39m.\u001b[39mdtype\u001b[39m}\u001b[39;00m\u001b[39m, \u001b[39m\u001b[39m'\u001b[39m\n\u001b[1;32m   1235\u001b[0m         \u001b[39mf\u001b[39m\u001b[39m'\u001b[39m\u001b[39m{\u001b[39;00m\u001b[39mself\u001b[39m\u001b[39m.\u001b[39m_render_indexes()\u001b[39m}\u001b[39;00m\u001b[39m)\u001b[39m\u001b[39m'\u001b[39m)\n",
      "File \u001b[0;32m~/opt/anaconda3/envs/install/envs/pangeo-forge-recipes/lib/python3.9/site-packages/apache_beam/dataframe/frames.py:1339\u001b[0m, in \u001b[0;36mDeferredSeries\u001b[0;34m()\u001b[0m\n\u001b[1;32m   1331\u001b[0m transpose \u001b[39m=\u001b[39m frame_base\u001b[39m.\u001b[39m_elementwise_method(\u001b[39m'\u001b[39m\u001b[39mtranspose\u001b[39m\u001b[39m'\u001b[39m, base\u001b[39m=\u001b[39mpd\u001b[39m.\u001b[39mSeries)\n\u001b[1;32m   1332\u001b[0m shape \u001b[39m=\u001b[39m \u001b[39mproperty\u001b[39m(\n\u001b[1;32m   1333\u001b[0m     frame_base\u001b[39m.\u001b[39mwont_implement_method(\n\u001b[1;32m   1334\u001b[0m         pd\u001b[39m.\u001b[39mSeries, \u001b[39m'\u001b[39m\u001b[39mshape\u001b[39m\u001b[39m'\u001b[39m, reason\u001b[39m=\u001b[39m\u001b[39m\"\u001b[39m\u001b[39mnon-deferred-result\u001b[39m\u001b[39m\"\u001b[39m))\n\u001b[1;32m   1336\u001b[0m \u001b[39m@frame_base\u001b[39;49m\u001b[39m.\u001b[39;49mwith_docs_from(pd\u001b[39m.\u001b[39;49mSeries)\n\u001b[1;32m   1337\u001b[0m \u001b[39m@frame_base\u001b[39;49m\u001b[39m.\u001b[39;49margs_to_kwargs(pd\u001b[39m.\u001b[39;49mSeries)\n\u001b[1;32m   1338\u001b[0m \u001b[39m@frame_base\u001b[39;49m\u001b[39m.\u001b[39;49mpopulate_defaults(pd\u001b[39m.\u001b[39;49mSeries)\n\u001b[0;32m-> 1339\u001b[0m \u001b[39mdef\u001b[39;49;00m \u001b[39mappend\u001b[39;49m(\u001b[39mself\u001b[39;49m, to_append, ignore_index, verify_integrity, \u001b[39m*\u001b[39;49m\u001b[39m*\u001b[39;49mkwargs):\n\u001b[1;32m   1340\u001b[0m \u001b[39m  \u001b[39;49m\u001b[39m\"\"\"``ignore_index=True`` is not supported, because it requires generating an\u001b[39;49;00m\n\u001b[1;32m   1341\u001b[0m \u001b[39m  order-sensitive index.\"\"\"\u001b[39;49;00m\n\u001b[1;32m   1342\u001b[0m   \u001b[39mif\u001b[39;49;00m \u001b[39mnot\u001b[39;49;00m \u001b[39misinstance\u001b[39;49m(to_append, DeferredSeries):\n",
      "File \u001b[0;32m~/opt/anaconda3/envs/install/envs/pangeo-forge-recipes/lib/python3.9/site-packages/apache_beam/dataframe/frame_base.py:600\u001b[0m, in \u001b[0;36mpopulate_defaults.<locals>.wrap\u001b[0;34m(func)\u001b[0m\n\u001b[1;32m    599\u001b[0m \u001b[39mdef\u001b[39;00m \u001b[39mwrap\u001b[39m(func):\n\u001b[0;32m--> 600\u001b[0m   base_argspec \u001b[39m=\u001b[39m getfullargspec(unwrap(\u001b[39mgetattr\u001b[39;49m(base_type, func\u001b[39m.\u001b[39;49m\u001b[39m__name__\u001b[39;49m)))\n\u001b[1;32m    601\u001b[0m   \u001b[39mif\u001b[39;00m \u001b[39mnot\u001b[39;00m base_argspec\u001b[39m.\u001b[39mdefaults:\n\u001b[1;32m    602\u001b[0m     \u001b[39mreturn\u001b[39;00m func\n",
      "\u001b[0;31mAttributeError\u001b[0m: type object 'Series' has no attribute 'append'"
     ]
    }
   ],
   "source": [
    "with beam.Pipeline() as p:\n",
    "    p | transforms"
   ]
  },
  {
   "attachments": {},
   "cell_type": "markdown",
   "metadata": {},
   "source": [
    "# Check The Outputs"
   ]
  },
  {
   "cell_type": "code",
   "execution_count": null,
   "metadata": {},
   "outputs": [],
   "source": [
    "ds_target =  xr.open_dataset(target_store, engine=\"zarr\", chunks={})\n",
    "ds_target"
   ]
  },
  {
   "cell_type": "code",
   "execution_count": null,
   "metadata": {},
   "outputs": [],
   "source": [
    "ds_target['HQprecipitation'].isel(time=0).plot()"
   ]
  }
 ],
 "metadata": {
  "kernelspec": {
   "display_name": "pangeo-forge-recipes",
   "language": "python",
   "name": "python3"
  },
  "language_info": {
   "codemirror_mode": {
    "name": "ipython",
    "version": 3
   },
   "file_extension": ".py",
   "mimetype": "text/x-python",
   "name": "python",
   "nbconvert_exporter": "python",
   "pygments_lexer": "ipython3",
   "version": "3.9.15"
  },
  "orig_nbformat": 4
 },
 "nbformat": 4,
 "nbformat_minor": 2
}
